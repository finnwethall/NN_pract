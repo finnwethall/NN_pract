{
 "cells": [
  {
   "cell_type": "code",
   "execution_count": null,
   "id": "0dcf2242-ef81-4cc0-8146-d01563ba0a6e",
   "metadata": {},
   "outputs": [],
   "source": [
    "import tensorflow as tf\n",
    "import matplotlib.pyplot as plt\n",
    "mnist = tf.keras.datasets.mnist #handwritten\n",
    "\n",
    "(x_train, y_train), (x_test, y_test) = mnist.load_data()\n"
   ]
  },
  {
   "cell_type": "code",
   "execution_count": null,
   "id": "7d30dd52-6a17-4420-94f8-a97c12bd8850",
   "metadata": {},
   "outputs": [],
   "source": [
    "plt.imshow(x_train[0]) #displays image as heatmap"
   ]
  },
  {
   "cell_type": "code",
   "execution_count": null,
   "id": "b94fcc8d-4205-4785-83c8-1c2dc1a87d7d",
   "metadata": {},
   "outputs": [],
   "source": [
    "x_train = tf.keras.utils.normalize(x_train, axis=1)\n",
    "x_test = tf.keras.utils.normalize(x_test, axis=1)\n",
    "\n",
    "plt.imshow(x_train[0])"
   ]
  },
  {
   "cell_type": "code",
   "execution_count": null,
   "id": "b9cd3cdd-305a-4b7c-b635-6501e23ace29",
   "metadata": {},
   "outputs": [],
   "source": [
    "model = tf.keras.models.Sequential()\n",
    "model.add(tf.keras.layers.Flatten())\n",
    "model.add(tf.keras.layers.Dense(128, activation=tf.nn.relu))\n",
    "model.add(tf.keras.layers.Dense(128, activation=tf.nn.relu))\n",
    "model.add(tf.keras.layers.Dense(10, activation=tf.nn.softmax))\n",
    "\n",
    "model.compile(optimizer='adam', loss='sparse_categorical_crossentropy',metrics=['accuracy'])\n",
    "\n",
    "model.fit(x_train, y_train, epochs=3)"
   ]
  },
  {
   "cell_type": "code",
   "execution_count": null,
   "id": "2f46ab86-2f43-4abb-902a-e7d8548b68c1",
   "metadata": {},
   "outputs": [],
   "source": [
    "val_loss, val_acc = model.evaluate(x_test, y_test)"
   ]
  },
  {
   "cell_type": "code",
   "execution_count": null,
   "id": "adc38bfa-b846-4616-ad7b-a41fc1a6f135",
   "metadata": {},
   "outputs": [],
   "source": [
    "print(val_loss, val_acc)"
   ]
  },
  {
   "cell_type": "code",
   "execution_count": null,
   "id": "72d8cf48-9986-4327-aed6-7de4d2108879",
   "metadata": {},
   "outputs": [],
   "source": [
    "import numpy as np\n",
    "\n",
    "predictions = model.predict(x_test)\n",
    "\n",
    "print(len(predictions))"
   ]
  },
  {
   "cell_type": "code",
   "execution_count": null,
   "id": "49132a42-e0ec-4d70-acab-35baff7d3568",
   "metadata": {},
   "outputs": [],
   "source": [
    "print(np.argmax(predictions[6]))"
   ]
  },
  {
   "cell_type": "code",
   "execution_count": null,
   "id": "296b7651-aead-420a-8647-70d0008935df",
   "metadata": {},
   "outputs": [],
   "source": [
    "plt.imshow(x_test[6])\n",
    "plt.show()"
   ]
  },
  {
   "cell_type": "code",
   "execution_count": null,
   "id": "a1588a3b-a3b9-4741-aab7-4e586efcc79c",
   "metadata": {},
   "outputs": [],
   "source": [
    "for i in range(10):\n",
    "    print(np.argmax(predictions[i]))\n",
    "    plt.imshow(x_test[i])\n",
    "    plt.show()\n",
    "    "
   ]
  },
  {
   "cell_type": "code",
   "execution_count": null,
   "id": "730e5ba7-b543-4ea0-bd91-f4e397f245ca",
   "metadata": {},
   "outputs": [],
   "source": [
    "#11/28/24\n",
    "import numpy as np\n",
    "a=input('1: ')\n",
    "b= input('2: ')\n",
    "c=input('3: ')\n",
    "d=input('4: ')\n",
    "e=input('5: ')\n",
    "X = np.array([[1], [2], [3], [4], [5]], dtype=np.float32)\n",
    "y = np.array([[a], [b], [c], [d], [e]], dtype=np.float32)\n",
    "mod_0 = Sequential([\n",
    "    Dense(units=1, input_shape=(1,)) \n",
    "])\n",
    "\n",
    "mod_0.compile(optimizer='sgd', loss='mean_squared_error')\n",
    "mod_0.fit(X, y, epochs=100, verbose=0)\n",
    "\n",
    "test_input = np.array([[6]], dtype=np.float32) \n",
    "\n",
    "weights, bias = mod_0.layers[0].get_weights()\n",
    "\n",
    "print(f\"Weights: {weights}, Bias: {bias}\")\n",
    "\n"
   ]
  },
  {
   "cell_type": "code",
   "execution_count": null,
   "id": "8ee197f2-8e5c-4e00-ae2e-19b76f26ccbd",
   "metadata": {},
   "outputs": [],
   "source": []
  }
 ],
 "metadata": {
  "kernelspec": {
   "display_name": "Python 3 (ipykernel)",
   "language": "python",
   "name": "python3"
  },
  "language_info": {
   "codemirror_mode": {
    "name": "ipython",
    "version": 3
   },
   "file_extension": ".py",
   "mimetype": "text/x-python",
   "name": "python",
   "nbconvert_exporter": "python",
   "pygments_lexer": "ipython3",
   "version": "3.12.4"
  }
 },
 "nbformat": 4,
 "nbformat_minor": 5
}
